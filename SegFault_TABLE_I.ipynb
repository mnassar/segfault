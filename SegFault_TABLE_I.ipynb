{
  "nbformat": 4,
  "nbformat_minor": 0,
  "metadata": {
    "colab": {
      "name": "SegFault -- TABLE I",
      "provenance": [],
      "collapsed_sections": [],
      "toc_visible": true,
      "include_colab_link": true
    },
    "kernelspec": {
      "name": "python3",
      "display_name": "Python 3"
    },
    "language_info": {
      "name": "python"
    },
    "accelerator": "GPU"
  },
  "cells": [
    {
      "cell_type": "markdown",
      "metadata": {
        "id": "view-in-github",
        "colab_type": "text"
      },
      "source": [
        "<a href=\"https://colab.research.google.com/github/mnassar/segfault/blob/main/SegFault_TABLE_I.ipynb\" target=\"_parent\"><img src=\"https://colab.research.google.com/assets/colab-badge.svg\" alt=\"Open In Colab\"/></a>"
      ]
    },
    {
      "cell_type": "markdown",
      "metadata": {
        "id": "siZVIsaHLTXq"
      },
      "source": [
        "#Detection Accuracy after Attack for one random batch of 128 images \n",
        "# TABLE I"
      ]
    },
    {
      "cell_type": "markdown",
      "metadata": {
        "id": "purAKaZm88AQ"
      },
      "source": [
        "install foolbox and libraries\n"
      ]
    },
    {
      "cell_type": "code",
      "metadata": {
        "colab": {
          "base_uri": "https://localhost:8080/"
        },
        "id": "WMxX0U4sUIEX",
        "outputId": "86b73b50-d1c1-4601-cc19-e83bb6a639c9"
      },
      "source": [
        "!pip install foolbox"
      ],
      "execution_count": null,
      "outputs": [
        {
          "output_type": "stream",
          "text": [
            "Requirement already satisfied: foolbox in /usr/local/lib/python3.7/dist-packages (3.3.1)\n",
            "Requirement already satisfied: numpy in /usr/local/lib/python3.7/dist-packages (from foolbox) (1.19.5)\n",
            "Requirement already satisfied: typing-extensions>=3.7.4.1 in /usr/local/lib/python3.7/dist-packages (from foolbox) (3.7.4.3)\n",
            "Requirement already satisfied: eagerpy==0.29.0 in /usr/local/lib/python3.7/dist-packages (from foolbox) (0.29.0)\n",
            "Requirement already satisfied: setuptools in /usr/local/lib/python3.7/dist-packages (from foolbox) (56.1.0)\n",
            "Requirement already satisfied: GitPython>=3.0.7 in /usr/local/lib/python3.7/dist-packages (from foolbox) (3.1.17)\n",
            "Requirement already satisfied: requests>=2.24.0 in /usr/local/lib/python3.7/dist-packages (from foolbox) (2.25.1)\n",
            "Requirement already satisfied: scipy in /usr/local/lib/python3.7/dist-packages (from foolbox) (1.4.1)\n",
            "Requirement already satisfied: gitdb<5,>=4.0.1 in /usr/local/lib/python3.7/dist-packages (from GitPython>=3.0.7->foolbox) (4.0.7)\n",
            "Requirement already satisfied: idna<3,>=2.5 in /usr/local/lib/python3.7/dist-packages (from requests>=2.24.0->foolbox) (2.10)\n",
            "Requirement already satisfied: chardet<5,>=3.0.2 in /usr/local/lib/python3.7/dist-packages (from requests>=2.24.0->foolbox) (3.0.4)\n",
            "Requirement already satisfied: urllib3<1.27,>=1.21.1 in /usr/local/lib/python3.7/dist-packages (from requests>=2.24.0->foolbox) (1.24.3)\n",
            "Requirement already satisfied: certifi>=2017.4.17 in /usr/local/lib/python3.7/dist-packages (from requests>=2.24.0->foolbox) (2020.12.5)\n",
            "Requirement already satisfied: smmap<5,>=3.0.1 in /usr/local/lib/python3.7/dist-packages (from gitdb<5,>=4.0.1->GitPython>=3.0.7->foolbox) (4.0.0)\n"
          ],
          "name": "stdout"
        }
      ]
    },
    {
      "cell_type": "code",
      "metadata": {
        "id": "Ph3qHGX0IXw8"
      },
      "source": [
        "import tensorflow.compat.v2 as tf\n",
        "tf.enable_v2_behavior()\n",
        "\n",
        "import numpy as np\n",
        "import foolbox as fb\n",
        "import matplotlib.pyplot as plt"
      ],
      "execution_count": null,
      "outputs": []
    },
    {
      "cell_type": "markdown",
      "metadata": {
        "id": "wROK-GlH9AUq"
      },
      "source": [
        "get the classifier\n"
      ]
    },
    {
      "cell_type": "code",
      "metadata": {
        "colab": {
          "base_uri": "https://localhost:8080/"
        },
        "id": "79__82vTUMi-",
        "outputId": "f9664948-e711-476b-91d9-577571043186"
      },
      "source": [
        "!wget --no-check-certificate 'https://docs.google.com/uc?export=download&id=1H4KEE0Vp8DFZOe_QfcxqOxEVnpun-uka' -O CIFAR10model.h5"
      ],
      "execution_count": null,
      "outputs": [
        {
          "output_type": "stream",
          "text": [
            "--2021-05-26 02:34:47--  https://docs.google.com/uc?export=download&id=1H4KEE0Vp8DFZOe_QfcxqOxEVnpun-uka\n",
            "Resolving docs.google.com (docs.google.com)... 74.125.199.113, 74.125.199.139, 74.125.199.101, ...\n",
            "Connecting to docs.google.com (docs.google.com)|74.125.199.113|:443... connected.\n",
            "HTTP request sent, awaiting response... 302 Moved Temporarily\n",
            "Location: https://doc-0s-68-docs.googleusercontent.com/docs/securesc/ha0ro937gcuc7l7deffksulhg5h7mbp1/mqgcmgm7urdjq4tkm0esr9k6uva1prm7/1621996425000/13345485370729250143/*/1H4KEE0Vp8DFZOe_QfcxqOxEVnpun-uka?e=download [following]\n",
            "Warning: wildcards not supported in HTTP.\n",
            "--2021-05-26 02:34:48--  https://doc-0s-68-docs.googleusercontent.com/docs/securesc/ha0ro937gcuc7l7deffksulhg5h7mbp1/mqgcmgm7urdjq4tkm0esr9k6uva1prm7/1621996425000/13345485370729250143/*/1H4KEE0Vp8DFZOe_QfcxqOxEVnpun-uka?e=download\n",
            "Resolving doc-0s-68-docs.googleusercontent.com (doc-0s-68-docs.googleusercontent.com)... 74.125.142.132, 2607:f8b0:400e:c08::84\n",
            "Connecting to doc-0s-68-docs.googleusercontent.com (doc-0s-68-docs.googleusercontent.com)|74.125.142.132|:443... connected.\n",
            "HTTP request sent, awaiting response... 200 OK\n",
            "Length: unspecified [application/octet-stream]\n",
            "Saving to: ‘CIFAR10model.h5’\n",
            "\n",
            "CIFAR10model.h5         [ <=>                ]   2.48M  --.-KB/s    in 0.02s   \n",
            "\n",
            "2021-05-26 02:34:48 (101 MB/s) - ‘CIFAR10model.h5’ saved [2600560]\n",
            "\n"
          ],
          "name": "stdout"
        }
      ]
    },
    {
      "cell_type": "markdown",
      "metadata": {
        "id": "iYDtooyw9HBK"
      },
      "source": [
        "load the classifier"
      ]
    },
    {
      "cell_type": "code",
      "metadata": {
        "colab": {
          "base_uri": "https://localhost:8080/"
        },
        "id": "t-0czP8qUOpH",
        "outputId": "5bf679b3-3fba-47b4-ef1f-75c308b823fc"
      },
      "source": [
        "# load the cifar classifier\n",
        "from tensorflow.keras.models import load_model\n",
        "\n",
        "pretrained_model = load_model('CIFAR10model.h5')\n",
        "pretrained_model.trainable = False\n",
        "pretrained_model.summary()\n"
      ],
      "execution_count": null,
      "outputs": [
        {
          "output_type": "stream",
          "text": [
            "Model: \"sequential_1\"\n",
            "_________________________________________________________________\n",
            "Layer (type)                 Output Shape              Param #   \n",
            "=================================================================\n",
            "conv2d_6 (Conv2D)            (None, 32, 32, 32)        896       \n",
            "_________________________________________________________________\n",
            "activation_6 (Activation)    (None, 32, 32, 32)        0         \n",
            "_________________________________________________________________\n",
            "batch_normalization_6 (Batch (None, 32, 32, 32)        128       \n",
            "_________________________________________________________________\n",
            "conv2d_7 (Conv2D)            (None, 32, 32, 32)        9248      \n",
            "_________________________________________________________________\n",
            "activation_7 (Activation)    (None, 32, 32, 32)        0         \n",
            "_________________________________________________________________\n",
            "batch_normalization_7 (Batch (None, 32, 32, 32)        128       \n",
            "_________________________________________________________________\n",
            "max_pooling2d_3 (MaxPooling2 (None, 16, 16, 32)        0         \n",
            "_________________________________________________________________\n",
            "dropout_3 (Dropout)          (None, 16, 16, 32)        0         \n",
            "_________________________________________________________________\n",
            "conv2d_8 (Conv2D)            (None, 16, 16, 64)        18496     \n",
            "_________________________________________________________________\n",
            "activation_8 (Activation)    (None, 16, 16, 64)        0         \n",
            "_________________________________________________________________\n",
            "batch_normalization_8 (Batch (None, 16, 16, 64)        256       \n",
            "_________________________________________________________________\n",
            "conv2d_9 (Conv2D)            (None, 16, 16, 64)        36928     \n",
            "_________________________________________________________________\n",
            "activation_9 (Activation)    (None, 16, 16, 64)        0         \n",
            "_________________________________________________________________\n",
            "batch_normalization_9 (Batch (None, 16, 16, 64)        256       \n",
            "_________________________________________________________________\n",
            "max_pooling2d_4 (MaxPooling2 (None, 8, 8, 64)          0         \n",
            "_________________________________________________________________\n",
            "dropout_4 (Dropout)          (None, 8, 8, 64)          0         \n",
            "_________________________________________________________________\n",
            "conv2d_10 (Conv2D)           (None, 8, 8, 128)         73856     \n",
            "_________________________________________________________________\n",
            "activation_10 (Activation)   (None, 8, 8, 128)         0         \n",
            "_________________________________________________________________\n",
            "batch_normalization_10 (Batc (None, 8, 8, 128)         512       \n",
            "_________________________________________________________________\n",
            "conv2d_11 (Conv2D)           (None, 8, 8, 128)         147584    \n",
            "_________________________________________________________________\n",
            "activation_11 (Activation)   (None, 8, 8, 128)         0         \n",
            "_________________________________________________________________\n",
            "batch_normalization_11 (Batc (None, 8, 8, 128)         512       \n",
            "_________________________________________________________________\n",
            "max_pooling2d_5 (MaxPooling2 (None, 4, 4, 128)         0         \n",
            "_________________________________________________________________\n",
            "dropout_5 (Dropout)          (None, 4, 4, 128)         0         \n",
            "_________________________________________________________________\n",
            "flatten_1 (Flatten)          (None, 2048)              0         \n",
            "_________________________________________________________________\n",
            "dense_1 (Dense)              (None, 10)                20490     \n",
            "=================================================================\n",
            "Total params: 309,290\n",
            "Trainable params: 0\n",
            "Non-trainable params: 309,290\n",
            "_________________________________________________________________\n"
          ],
          "name": "stdout"
        }
      ]
    },
    {
      "cell_type": "markdown",
      "metadata": {
        "id": "y4OT5Yvr9O_E"
      },
      "source": [
        "get the dataset"
      ]
    },
    {
      "cell_type": "code",
      "metadata": {
        "colab": {
          "base_uri": "https://localhost:8080/"
        },
        "id": "nmQm5U_jURnl",
        "outputId": "5ad74bae-a170-49a7-e47a-b78a8e2e7430"
      },
      "source": [
        "import tensorflow_datasets as tfds\n",
        "\n",
        "(ds_train, ds_test), ds_info = tfds.load(\n",
        "    'cifar10',\n",
        "    split=['train', 'test'],\n",
        "    shuffle_files=True,\n",
        "    as_supervised=True,\n",
        "    with_info=True,\n",
        ")\n",
        "\n",
        "print (ds_info)\n"
      ],
      "execution_count": null,
      "outputs": [
        {
          "output_type": "stream",
          "text": [
            "tfds.core.DatasetInfo(\n",
            "    name='cifar10',\n",
            "    version=3.0.2,\n",
            "    description='The CIFAR-10 dataset consists of 60000 32x32 colour images in 10 classes, with 6000 images per class. There are 50000 training images and 10000 test images.',\n",
            "    homepage='https://www.cs.toronto.edu/~kriz/cifar.html',\n",
            "    features=FeaturesDict({\n",
            "        'id': Text(shape=(), dtype=tf.string),\n",
            "        'image': Image(shape=(32, 32, 3), dtype=tf.uint8),\n",
            "        'label': ClassLabel(shape=(), dtype=tf.int64, num_classes=10),\n",
            "    }),\n",
            "    total_num_examples=60000,\n",
            "    splits={\n",
            "        'test': 10000,\n",
            "        'train': 50000,\n",
            "    },\n",
            "    supervised_keys=('image', 'label'),\n",
            "    citation=\"\"\"@TECHREPORT{Krizhevsky09learningmultiple,\n",
            "        author = {Alex Krizhevsky},\n",
            "        title = {Learning multiple layers of features from tiny images},\n",
            "        institution = {},\n",
            "        year = {2009}\n",
            "    }\"\"\",\n",
            "    redistribution_info=,\n",
            ")\n",
            "\n"
          ],
          "name": "stdout"
        }
      ]
    },
    {
      "cell_type": "code",
      "metadata": {
        "id": "sJmmdrYDUTKl"
      },
      "source": [
        "# normalize images \n",
        "\n",
        "# these are the numbers used during training the model \n",
        "mean = 120.70748\n",
        "std = 64.150024\n",
        "bound_min = (0-mean)/std\n",
        "bound_max = (255-mean)/std\n",
        "\n",
        "def normalize_img(image, label):\n",
        "  \"\"\"Normalizes images: `uint8` -> `float32`.\"\"\"\n",
        "  # return tf.cast(image, tf.float32) / 255., tf.one_hot(label, 10)\n",
        "  return (tf.cast(image, tf.float32) - mean) / std, tf.one_hot(label, 10)\n",
        "\n",
        "\n",
        "ds_train = ds_train.map(\n",
        "    normalize_img, num_parallel_calls=tf.data.experimental.AUTOTUNE)\n",
        "ds_train = ds_train.cache()\n",
        "ds_train = ds_train.shuffle(ds_info.splits['train'].num_examples)\n",
        "ds_train = ds_train.batch(128)\n",
        "ds_train = ds_train.prefetch(tf.data.experimental.AUTOTUNE)\n",
        "\n",
        "ds_test = ds_test.map(\n",
        "    normalize_img, num_parallel_calls=tf.data.experimental.AUTOTUNE)\n",
        "ds_test = ds_test.batch(128)\n",
        "ds_test = ds_test.cache()\n",
        "ds_test = ds_test.prefetch(tf.data.experimental.AUTOTUNE)"
      ],
      "execution_count": null,
      "outputs": []
    },
    {
      "cell_type": "code",
      "metadata": {
        "colab": {
          "base_uri": "https://localhost:8080/"
        },
        "id": "-TztokBQ9Uks",
        "outputId": "dd0aa559-d5bd-4b55-b1b8-5977f762f485"
      },
      "source": [
        "# fix the batch to work with\n",
        "images, labels = next(iter(ds_train))\n",
        "# accuracy before attack\n",
        "pretrained_model.evaluate(images,labels)"
      ],
      "execution_count": null,
      "outputs": [
        {
          "output_type": "stream",
          "text": [
            "4/4 [==============================] - 1s 6ms/step - loss: 0.3866 - accuracy: 0.9453\n"
          ],
          "name": "stdout"
        },
        {
          "output_type": "execute_result",
          "data": {
            "text/plain": [
              "[0.3866119086742401, 0.9453125]"
            ]
          },
          "metadata": {
            "tags": []
          },
          "execution_count": 7
        }
      ]
    },
    {
      "cell_type": "markdown",
      "metadata": {
        "id": "PopCuct6mKWL"
      },
      "source": [
        "C & W Attack"
      ]
    },
    {
      "cell_type": "code",
      "metadata": {
        "id": "n5P-T0jPUWyF",
        "colab": {
          "base_uri": "https://localhost:8080/"
        },
        "outputId": "914f1c01-7f1c-4c35-97ee-9c7160f8adef"
      },
      "source": [
        "%%time \n",
        "# epsilons = [0.02, 0.06, 0.1]\n",
        "epsilons = None\n",
        "labels_class = tf.argmax(labels, axis=1)\n",
        "fmodel = fb.models.TensorFlowModel(model=pretrained_model, bounds=(bound_min, bound_max))\n",
        "attack = fb.attacks.L2CarliniWagnerAttack(steps=500)\n",
        "raw, fimages, is_adv = attack(fmodel, images, criterion=fb.criteria.Misclassification(labels_class),epsilons=epsilons)\n"
      ],
      "execution_count": null,
      "outputs": [
        {
          "output_type": "stream",
          "text": [
            "CPU times: user 21.5 s, sys: 398 ms, total: 21.8 s\n",
            "Wall time: 21.6 s\n"
          ],
          "name": "stdout"
        }
      ]
    },
    {
      "cell_type": "code",
      "metadata": {
        "colab": {
          "base_uri": "https://localhost:8080/"
        },
        "id": "bx7a9Qk4GiM_",
        "outputId": "06ff1569-93be-441e-cfbe-f72815536d19"
      },
      "source": [
        "# for eps, fimages_single in zip(epsilons, fimages): \n",
        "  # print(\"for eps=\", eps)\n",
        "  # fpreds = pretrained_model.predict(fimages_single)\n",
        "pretrained_model.evaluate(fimages_single,labels)"
      ],
      "execution_count": null,
      "outputs": [
        {
          "output_type": "stream",
          "text": [
            "4/4 [==============================] - 0s 5ms/step - loss: 1.0999 - accuracy: 0.1719\n"
          ],
          "name": "stdout"
        },
        {
          "output_type": "execute_result",
          "data": {
            "text/plain": [
              "[1.099870204925537, 0.171875]"
            ]
          },
          "metadata": {
            "tags": []
          },
          "execution_count": 24
        }
      ]
    },
    {
      "cell_type": "code",
      "metadata": {
        "id": "nqEEqxsC7uCG",
        "colab": {
          "base_uri": "https://localhost:8080/"
        },
        "outputId": "126d3a2d-3b0e-4ac9-d68c-f7168ff217f3"
      },
      "source": [
        "# print (len(fimages[2]))\n",
        "# print (len(images))\n",
        "# print (is_adv)\n",
        "# print (fpreds.shape)\n",
        "fimages[0][0].shape "
      ],
      "execution_count": null,
      "outputs": [
        {
          "output_type": "execute_result",
          "data": {
            "text/plain": [
              "TensorShape([32, 32, 3])"
            ]
          },
          "metadata": {
            "tags": []
          },
          "execution_count": 10
        }
      ]
    },
    {
      "cell_type": "code",
      "metadata": {
        "id": "PYcuqweCQrzJ",
        "colab": {
          "base_uri": "https://localhost:8080/",
          "height": 385
        },
        "outputId": "b328be81-86e5-4242-b60a-85af184fa775"
      },
      "source": [
        "# raw vs. fimage: (we use fimage as suggested in https://foolbox.jonasrauber.de/guide/getting-started.html#attacking-the-model)\n",
        "import matplotlib.pyplot as plt\n",
        "plt.figure(figsize = (2,2))\n",
        "plt.axis('off')\n",
        "plt.imshow((images[2].numpy() * std + mean).astype(np.uint8))\n",
        "plt.show()\n",
        "\n",
        "plt.figure(figsize = (2,2))\n",
        "plt.axis('off')\n",
        "plt.imshow((fimages[2].numpy() * std + mean).astype(np.uint8))\n",
        "plt.show()\n",
        "\n",
        "plt.figure(figsize = (2,2))\n",
        "plt.axis('off')\n",
        "plt.imshow((raw[2].numpy() * std + mean).astype(np.uint8))\n",
        "plt.show()"
      ],
      "execution_count": null,
      "outputs": [
        {
          "output_type": "display_data",
          "data": {
            "image/png": "[encoded data removed]",
            "text/plain": [
              "<Figure size 144x144 with 1 Axes>"
            ]
          },
          "metadata": {
            "tags": [],
            "needs_background": "light"
          }
        },
        {
          "output_type": "display_data",
          "data": {
            "image/png": "[encoded data removed]",
            "text/plain": [
              "<Figure size 144x144 with 1 Axes>"
            ]
          },
          "metadata": {
            "tags": [],
            "needs_background": "light"
          }
        },
        {
          "output_type": "display_data",
          "data": {
            "image/png": "[encoded data removed]",
            "text/plain": [
              "<Figure size 144x144 with 1 Axes>"
            ]
          },
          "metadata": {
            "tags": [],
            "needs_background": "light"
          }
        }
      ]
    },
    {
      "cell_type": "markdown",
      "metadata": {
        "id": "aW5_T4L_mL3k"
      },
      "source": [
        "PGD, FGSM, LinfDeeoFool Attack\n"
      ]
    },
    {
      "cell_type": "code",
      "metadata": {
        "id": "4JeJ7NAFmX-K",
        "colab": {
          "base_uri": "https://localhost:8080/"
        },
        "outputId": "7a699b56-72da-41de-9fe1-c99aefb8f209"
      },
      "source": [
        "attacks = [fb.attacks.FGSM(), fb.attacks.PGD(), fb.attacks.LinfDeepFoolAttack()]\n",
        "for attack in attacks: \n",
        "  raw, fimages, is_adv = attack(fmodel, images, criterion=fb.criteria.Misclassification(labels_class),epsilons=epsilons)\n",
        "  for eps, fimages_single in zip(epsilons, fimages): \n",
        "    print(attack, \" for eps=\", eps)\n",
        "    # fpreds = pretrained_model.predict(fimages_single)\n",
        "    pretrained_model.evaluate(fimages_single,labels)\n",
        "\n"
      ],
      "execution_count": null,
      "outputs": [
        {
          "output_type": "stream",
          "text": [
            "LinfFastGradientAttack(rel_stepsize=1.0, abs_stepsize=None, steps=1, random_start=False)  for eps= 0.02\n",
            "4/4 [==============================] - 0s 5ms/step - loss: 3.0451 - accuracy: 0.3672\n",
            "LinfFastGradientAttack(rel_stepsize=1.0, abs_stepsize=None, steps=1, random_start=False)  for eps= 0.06\n",
            "4/4 [==============================] - 0s 5ms/step - loss: 6.8221 - accuracy: 0.1328\n",
            "LinfFastGradientAttack(rel_stepsize=1.0, abs_stepsize=None, steps=1, random_start=False)  for eps= 0.1\n",
            "4/4 [==============================] - 0s 5ms/step - loss: 7.4315 - accuracy: 0.0547\n",
            "LinfProjectedGradientDescentAttack(rel_stepsize=0.03333333333333333, abs_stepsize=None, steps=40, random_start=True)  for eps= 0.02\n",
            "4/4 [==============================] - 0s 5ms/step - loss: 4.0958 - accuracy: 0.2734\n",
            "LinfProjectedGradientDescentAttack(rel_stepsize=0.03333333333333333, abs_stepsize=None, steps=40, random_start=True)  for eps= 0.06\n",
            "4/4 [==============================] - 0s 5ms/step - loss: 16.8985 - accuracy: 0.0078\n",
            "LinfProjectedGradientDescentAttack(rel_stepsize=0.03333333333333333, abs_stepsize=None, steps=40, random_start=True)  for eps= 0.1\n",
            "4/4 [==============================] - 0s 5ms/step - loss: 22.0933 - accuracy: 0.0000e+00\n",
            "LinfDeepFoolAttack(steps=50, candidates=10, overshoot=0.02, loss=logits)  for eps= 0.02\n",
            "4/4 [==============================] - 0s 5ms/step - loss: 1.9983 - accuracy: 0.3594\n",
            "LinfDeepFoolAttack(steps=50, candidates=10, overshoot=0.02, loss=logits)  for eps= 0.06\n",
            "4/4 [==============================] - 0s 5ms/step - loss: 4.6759 - accuracy: 0.1172\n",
            "LinfDeepFoolAttack(steps=50, candidates=10, overshoot=0.02, loss=logits)  for eps= 0.1\n",
            "4/4 [==============================] - 0s 6ms/step - loss: 5.3069 - accuracy: 0.0625\n"
          ],
          "name": "stdout"
        }
      ]
    },
    {
      "cell_type": "code",
      "metadata": {
        "colab": {
          "base_uri": "https://localhost:8080/"
        },
        "id": "mNWmEwUhMZvW",
        "outputId": "966ee739-e8a7-413b-df9c-ded260b59e98"
      },
      "source": [
        "print(\"Done!\")"
      ],
      "execution_count": null,
      "outputs": [
        {
          "output_type": "stream",
          "text": [
            "Done!\n"
          ],
          "name": "stdout"
        }
      ]
    }
  ]
}